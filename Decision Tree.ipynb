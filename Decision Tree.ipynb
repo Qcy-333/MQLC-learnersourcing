{
 "cells": [
  {
   "cell_type": "code",
   "execution_count": null,
   "metadata": {},
   "outputs": [],
   "source": [
    "import dtreeviz\n",
    "import graphviz.backend as be\n",
    "from sklearn.datasets import *\n",
    "from dtreeviz.trees import *\n",
    "from IPython.display import Image, display_svg, SVG\n",
    "import pandas as pd\n",
    "from sklearn.model_selection import train_test_split\n",
    "from sklearn.utils import shuffle\n",
    "from sklearn.tree import DecisionTreeClassifier\n",
    "import dtreeviz"
   ]
  },
  {
   "cell_type": "code",
   "execution_count": null,
   "metadata": {},
   "outputs": [],
   "source": [
    "df=pd.read_excel(\"\")"
   ]
  },
  {
   "cell_type": "code",
   "execution_count": null,
   "metadata": {},
   "outputs": [],
   "source": [
    "from sklearn.utils import shuffle\n",
    " #(276, 705, 144) 1，0，-1\n",
    "df = shuffle(df)\n",
    "X = df.iloc[:,:15]\n",
    "Y = df.iloc[:,15]"
   ]
  },
  {
   "cell_type": "code",
   "execution_count": null,
   "metadata": {},
   "outputs": [],
   "source": [
    "def tree_mdl(x_train, x_test, y_train, y_test, criterion, max_depth):\n",
    "    tree = DecisionTreeClassifier(random_state=123, criterion=criterion, max_depth=max_depth)  # \"entropy\"\n",
    "    tree.fit(x_train, y_train)\n",
    "    acu_train = tree.score(x_train, y_train)\n",
    "    acu_test = tree.score(x_test, y_test)\n",
    "#     graph = pydotplus.graph_from_dot_data(dot_data)\n",
    "#     graph.write_pdf(\"C:/Users/apple/Desktop/treegraph/tree-\"+str(criterion)+\"max\" + str(max_depth) + \".pdf\")\n",
    "    return acu_train, acu_test\n",
    "\n",
    "def run_tree(test_size):\n",
    "    x_train, x_test, y_train, y_test = \\\n",
    "        train_test_split(X, Y, test_size=test_size)\n",
    "    result = {\"criterion\":[],\n",
    "              \"max_depth\":[],\n",
    "              \"acu_train\":[],\n",
    "              \"acu_test\":[]\n",
    "              }\n",
    "    for criterion in [\"gini\", \"entropy\"]:\n",
    "        acu_tr_lis = []\n",
    "        acu_te_lis = []\n",
    "        for max_depth in range(1,12):\n",
    "            acu_train, acu_test = tree_mdl(x_train, x_test, y_train, y_test, criterion, max_depth)\n",
    "            acu_tr_lis.append(acu_train)\n",
    "            acu_te_lis.append(acu_test)\n",
    "            result[\"criterion\"].append(criterion)\n",
    "            result[\"max_depth\"].append(max_depth)\n",
    "            result[\"acu_train\"].append(acu_train)\n",
    "            result[\"acu_test\"].append(acu_test)\n",
    "        plt.plot(range(1, 12), acu_tr_lis, \"o-\",label=\"acu-train\")\n",
    "        plt.plot(range(1, 12), acu_te_lis, \"*-\",label=\"acu-test\")\n",
    "        plt.xlabel(\"max_depth\")\n",
    "        plt.ylabel(\"accuracy\")\n",
    "        plt.title(\"Criterion = \"+str(criterion))\n",
    "        plt.legend([\"acu-train\", \"acu-test\"])\n",
    "        plt.show()\n",
    "\n",
    "    return pd.DataFrame(result)"
   ]
  },
  {
   "cell_type": "code",
   "execution_count": null,
   "metadata": {},
   "outputs": [],
   "source": [
    "run_tree(0.3)"
   ]
  }
 ],
 "metadata": {
  "kernelspec": {
   "display_name": "Python 3",
   "language": "python",
   "name": "python3"
  },
  "language_info": {
   "codemirror_mode": {
    "name": "ipython",
    "version": 3
   },
   "file_extension": ".py",
   "mimetype": "text/x-python",
   "name": "python",
   "nbconvert_exporter": "python",
   "pygments_lexer": "ipython3",
   "version": "3.6.8"
  }
 },
 "nbformat": 4,
 "nbformat_minor": 2
}
